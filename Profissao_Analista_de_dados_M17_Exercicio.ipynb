{
  "nbformat": 4,
  "nbformat_minor": 0,
  "metadata": {
    "colab": {
      "provenance": [],
      "include_colab_link": true
    },
    "kernelspec": {
      "name": "python3",
      "display_name": "Python 3"
    }
  },
  "cells": [
    {
      "cell_type": "markdown",
      "metadata": {
        "id": "view-in-github",
        "colab_type": "text"
      },
      "source": [
        "<a href=\"https://colab.research.google.com/github/salveegu/ebac-gustavo-2024/blob/main/Profissao_Analista_de_dados_M17_Exercicio.ipynb\" target=\"_parent\"><img src=\"https://colab.research.google.com/assets/colab-badge.svg\" alt=\"Open In Colab\"/></a>"
      ]
    },
    {
      "cell_type": "markdown",
      "metadata": {
        "id": "KJqp9AANOCtf"
      },
      "source": [
        "<img src=\"https://raw.githubusercontent.com/andre-marcos-perez/ebac-course-utils/main/media/logo/newebac_logo_black_half.png\" alt=\"ebac-logo\">\n",
        "\n",
        "---\n",
        "\n",
        "# **Módulo** | Análise de Dados: Controle de Versão I\n",
        "Caderno de **Exercícios**<br>\n",
        "Professor [André Perez](https://www.linkedin.com/in/andremarcosperez/)\n",
        "\n",
        "---"
      ]
    },
    {
      "cell_type": "markdown",
      "metadata": {
        "id": "d9jDtUbDOE1-"
      },
      "source": [
        "# **Tópicos**\n",
        "\n",
        "<ol type=\"1\">\n",
        "  <li>Introdução ao Git;</li>\n",
        "  <li>Introdução ao GitHub;</li>\n",
        "  <li>Criando um repositório no GitHub.</li>\n",
        "</ol>"
      ]
    },
    {
      "cell_type": "markdown",
      "metadata": {
        "id": "SmoHgt-lwkpD"
      },
      "source": [
        "---"
      ]
    },
    {
      "cell_type": "markdown",
      "metadata": {
        "id": "GABI6OW8OfQ2"
      },
      "source": [
        "# **Exercícios**"
      ]
    },
    {
      "cell_type": "markdown",
      "metadata": {
        "id": "GWgNoJN8DHyY"
      },
      "source": [
        "## 1\\. Git"
      ]
    },
    {
      "cell_type": "markdown",
      "metadata": {
        "id": "fLGLUjR_bS36"
      },
      "source": [
        "O [git](https://git-scm.com/) é um software de controle de versão distribuído de **arquivos**. Nos exercícios desta aula, voce pode utiliza-lo tanto na máquina virtual do Google Colab quanto na sua máquina local."
      ]
    },
    {
      "cell_type": "markdown",
      "metadata": {
        "id": "b38h7VzCazcD"
      },
      "source": [
        "### **1.1. Google Colab**"
      ]
    },
    {
      "cell_type": "markdown",
      "metadata": {
        "id": "8IqWwI7KSCf7"
      },
      "source": [
        "Nas máquinas virtuais do Google Colab o `git` já vem instalado."
      ]
    },
    {
      "cell_type": "code",
      "metadata": {
        "id": "6W4RyDfJ6DzI",
        "colab": {
          "base_uri": "https://localhost:8080/"
        },
        "outputId": "fb67ab1f-4f93-4a9b-9deb-040062003025"
      },
      "source": [
        "!git --version"
      ],
      "execution_count": 8,
      "outputs": [
        {
          "output_type": "stream",
          "name": "stdout",
          "text": [
            "git version 2.34.1\n"
          ]
        }
      ]
    },
    {
      "cell_type": "code",
      "source": [
        "ssh-keygen -t ed25519 -C \"salveegu@gmail.com\""
      ],
      "metadata": {
        "colab": {
          "base_uri": "https://localhost:8080/",
          "height": 106
        },
        "id": "gS_D3va1CTQk",
        "outputId": "a1c57f7c-8baf-4c41-fd70-d0e290f8dfdd"
      },
      "execution_count": 3,
      "outputs": [
        {
          "output_type": "error",
          "ename": "SyntaxError",
          "evalue": "invalid syntax (<ipython-input-3-0bcc98a3603b>, line 1)",
          "traceback": [
            "\u001b[0;36m  File \u001b[0;32m\"<ipython-input-3-0bcc98a3603b>\"\u001b[0;36m, line \u001b[0;32m1\u001b[0m\n\u001b[0;31m    ssh-keygen -t ed25519 -C \"salveegu@gmail.com\"\u001b[0m\n\u001b[0m                  ^\u001b[0m\n\u001b[0;31mSyntaxError\u001b[0m\u001b[0;31m:\u001b[0m invalid syntax\n"
          ]
        }
      ]
    },
    {
      "cell_type": "code",
      "source": [
        " ssh-keygen -t rsa -b 4096 -C \"salveegu@gmail.com\""
      ],
      "metadata": {
        "colab": {
          "base_uri": "https://localhost:8080/",
          "height": 106
        },
        "id": "jEc5BH5SCTFS",
        "outputId": "6dff67dc-f416-4b54-dc19-60a7d6d48b6f"
      },
      "execution_count": 4,
      "outputs": [
        {
          "output_type": "error",
          "ename": "SyntaxError",
          "evalue": "invalid syntax (<ipython-input-4-6e0b9d9250fa>, line 1)",
          "traceback": [
            "\u001b[0;36m  File \u001b[0;32m\"<ipython-input-4-6e0b9d9250fa>\"\u001b[0;36m, line \u001b[0;32m1\u001b[0m\n\u001b[0;31m    ssh-keygen -t rsa -b 4096 -C \"salveegu@gmail.com\"\u001b[0m\n\u001b[0m                  ^\u001b[0m\n\u001b[0;31mSyntaxError\u001b[0m\u001b[0;31m:\u001b[0m invalid syntax\n"
          ]
        }
      ]
    },
    {
      "cell_type": "code",
      "source": [
        "!git config –global user.email \"salveegu@gmail.com\"\n",
        "\n",
        "!git config –global user.name “salveegu”"
      ],
      "metadata": {
        "colab": {
          "base_uri": "https://localhost:8080/"
        },
        "id": "h1rag77zDPSl",
        "outputId": "e3a7f7f5-8ed3-465b-bdf4-92e62920ebe3"
      },
      "execution_count": 7,
      "outputs": [
        {
          "output_type": "stream",
          "name": "stdout",
          "text": [
            "fatal: not in a git directory\n",
            "fatal: not in a git directory\n"
          ]
        }
      ]
    },
    {
      "cell_type": "code",
      "source": [
        "!git config –global user.email \"salveegu@gmail.com\""
      ],
      "metadata": {
        "colab": {
          "base_uri": "https://localhost:8080/"
        },
        "id": "QkeZexH8GqKU",
        "outputId": "b8de1ae1-43ec-4119-ec0e-cd478e62eb90"
      },
      "execution_count": 9,
      "outputs": [
        {
          "output_type": "stream",
          "name": "stdout",
          "text": [
            "fatal: not in a git directory\n"
          ]
        }
      ]
    },
    {
      "cell_type": "markdown",
      "metadata": {
        "id": "C5hnW9-Oa5cI"
      },
      "source": [
        "### **1.2. Máquina Local**"
      ]
    },
    {
      "cell_type": "markdown",
      "metadata": {
        "id": "OUWoDjwNbAqm"
      },
      "source": [
        "Em muitos sistemas opeacionais, o `git` já vem pré instalado, utilize o comando abaixo na linha de comando do seu computador (`terminal` no Linux e MacOS ou `cmd` no Windows) para verificar a instalação."
      ]
    },
    {
      "cell_type": "markdown",
      "metadata": {
        "id": "3OMQLHU8eaBH"
      },
      "source": [
        "```shell\n",
        "git --version\n",
        "```"
      ]
    },
    {
      "cell_type": "markdown",
      "metadata": {
        "id": "kwrM3OmheGlJ"
      },
      "source": [
        "Se o `git` não estiver instalado na sua maquina, voce pode encontrar instruções de instalação para Linux/MacOS/Windows neste [link](https://www.atlassian.com/br/git/tutorials/install-git). Após seguir as instruções, você pode verificar a instalação com o mesmo comando."
      ]
    },
    {
      "cell_type": "markdown",
      "metadata": {
        "id": "WlIh0A04fCuV"
      },
      "source": [
        "```shell\n",
        "git --version\n",
        "```"
      ]
    },
    {
      "cell_type": "markdown",
      "metadata": {
        "id": "waxn4B2UDHyl"
      },
      "source": [
        "---"
      ]
    },
    {
      "cell_type": "markdown",
      "metadata": {
        "id": "finLQoyyGVmk"
      },
      "source": [
        "## 2\\. GitHub"
      ]
    },
    {
      "cell_type": "markdown",
      "metadata": {
        "id": "74xkkESnbVbU"
      },
      "source": [
        "O GitHub é uma ferramenta online de controle de versão distribuído de **arquivos**."
      ]
    },
    {
      "cell_type": "markdown",
      "metadata": {
        "id": "gqI0kEa0ba0N"
      },
      "source": [
        "### **2.1. Criando a uma conta**"
      ]
    },
    {
      "cell_type": "markdown",
      "metadata": {
        "id": "a7kDE5Peba0P"
      },
      "source": [
        "Para criar a uma conta na ferramenta, basta acessar este [link](https://github.com), clicar em *sign up* e seguir as instruções."
      ]
    },
    {
      "cell_type": "markdown",
      "metadata": {
        "id": "9qAr4d94ba0Q"
      },
      "source": [
        "### **2.2. Criando um projeto**"
      ]
    },
    {
      "cell_type": "markdown",
      "metadata": {
        "id": "MCveeK5bba0R"
      },
      "source": [
        "Nesta etapa vamos configurar o `git` na máquina virtual do Google Colab ou na sua máquina local, as instruções são as mesmas. Para tanto, replique as atividades expostas na aula 3 deste módulo."
      ]
    },
    {
      "cell_type": "markdown",
      "metadata": {
        "id": "jr3IIt4SwhTA"
      },
      "source": [
        " > Conta"
      ]
    },
    {
      "cell_type": "markdown",
      "metadata": {
        "id": "7oYCV4YhmpxE"
      },
      "source": [
        " - Criar uma conta no GitHub."
      ]
    },
    {
      "cell_type": "markdown",
      "metadata": {
        "id": "xO8Vn51royvj"
      },
      "source": [
        " - Criar um *personal access token*."
      ]
    },
    {
      "cell_type": "markdown",
      "metadata": {
        "id": "ZU0uaRebm7oY"
      },
      "source": [
        " - Configurar a conexão entre o `git` local com o `git` remoto (GitHub):"
      ]
    },
    {
      "cell_type": "code",
      "metadata": {
        "id": "2KZ8VecqnUzx"
      },
      "source": [
        "import os\n",
        "\n",
        "username = \"<seu-usuario-git>\" # insira o seu nome de usuário do git\n",
        "os.environ[\"GITHUB_USER\"] = username\n",
        "\n",
        "!git config --global user.name \"${GITHUB_USER}\""
      ],
      "execution_count": null,
      "outputs": []
    },
    {
      "cell_type": "code",
      "metadata": {
        "id": "tpRJcz0hoBtK"
      },
      "source": [
        "import os\n",
        "from getpass import getpass\n",
        "\n",
        "usermail = getpass()\n",
        "os.environ[\"GITHUB_MAIL\"] = usermail\n",
        "\n",
        "!git config --global user.email \"${GITHUB_MAIL}\""
      ],
      "execution_count": null,
      "outputs": []
    },
    {
      "cell_type": "code",
      "metadata": {
        "id": "YeUSaO14veHV"
      },
      "source": [
        "import os\n",
        "from getpass import getpass\n",
        "\n",
        "usertoken = getpass()\n",
        "os.environ[\"GITHUB_TOKEN\"] = usertoken"
      ],
      "execution_count": null,
      "outputs": []
    },
    {
      "cell_type": "markdown",
      "metadata": {
        "id": "U7DbyCuawlEV"
      },
      "source": [
        " > Projeto"
      ]
    },
    {
      "cell_type": "markdown",
      "metadata": {
        "id": "P5J3RdYRra26"
      },
      "source": [
        " - Criar o projeto **remoto**."
      ]
    },
    {
      "cell_type": "markdown",
      "metadata": {
        "id": "IxLfmGQnmfL8"
      },
      "source": [
        " - Fazer o download do projeto **remoto** na máquina **local**, não se esqueça de alterar o link com as informações de usuário e senha."
      ]
    },
    {
      "cell_type": "code",
      "metadata": {
        "id": "sp_iiZY7NpTS"
      },
      "source": [
        "!git clone <link-repo-remoto> # insira o link do seu repositório remoto"
      ],
      "execution_count": null,
      "outputs": []
    },
    {
      "cell_type": "code",
      "metadata": {
        "id": "sVw8rgrEsSl7"
      },
      "source": [
        "%cd /content/da-ebac/"
      ],
      "execution_count": null,
      "outputs": []
    },
    {
      "cell_type": "markdown",
      "metadata": {
        "id": "Hhwqi1lgo98u"
      },
      "source": [
        " - Criar um arquivo **hello.py** e salvar as aterações no repositório **local**."
      ]
    },
    {
      "cell_type": "code",
      "metadata": {
        "id": "PX29_aXZpbv4"
      },
      "source": [
        "!touch hello.py\n",
        "!git status"
      ],
      "execution_count": null,
      "outputs": []
    },
    {
      "cell_type": "code",
      "metadata": {
        "id": "llYrydvipu23"
      },
      "source": [
        "!git add hello.py\n",
        "!git status"
      ],
      "execution_count": null,
      "outputs": []
    },
    {
      "cell_type": "code",
      "metadata": {
        "id": "QIhx_FE_pyC-"
      },
      "source": [
        "!git commit -m \"arquivo hello.py criado\"\n",
        "!git status"
      ],
      "execution_count": null,
      "outputs": []
    },
    {
      "cell_type": "markdown",
      "metadata": {
        "id": "BdkYI4jKpOIK"
      },
      "source": [
        " - Enviar as alterações para o repositório **remoto**."
      ]
    },
    {
      "cell_type": "code",
      "metadata": {
        "id": "Y9Gw7ptPpUlb"
      },
      "source": [
        "!git push origin main\n",
        "!git status"
      ],
      "execution_count": null,
      "outputs": []
    },
    {
      "cell_type": "markdown",
      "metadata": {
        "id": "LdakWXS7jEWG"
      },
      "source": [
        " - Confira o arquivo no seu repositório."
      ]
    },
    {
      "cell_type": "markdown",
      "metadata": {
        "id": "As3enQc2GVm1"
      },
      "source": [
        "---"
      ]
    }
  ]
}